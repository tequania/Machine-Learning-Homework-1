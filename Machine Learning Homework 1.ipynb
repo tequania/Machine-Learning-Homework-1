{
 "cells": [
  {
   "cell_type": "code",
   "execution_count": null,
   "metadata": {
    "collapsed": true
   },
   "outputs": [],
   "source": [
    "import numpy as np\n",
    "import pandas as pd\n",
    "import matplotlib.pyplot as plt\n",
    "\n",
    "from sklearn.linear_model import LogisticRegression\n",
    "from sklearn.metrics import accuracy_score\n",
    "from sklearn.model_selection import train_test_split"
   ]
  },
  {
   "cell_type": "code",
   "execution_count": null,
   "metadata": {
    "collapsed": true
   },
   "outputs": [],
   "source": [
    "train_data = pd.read_csv(\"/Users/Quan/Documents/Titanic (1)/train.csv\")\n",
    "test_data = pd.read_csv(\"/Users/Quan/Documents/Titanic (1)/test.csv\")"
   ]
  },
  {
   "cell_type": "code",
   "execution_count": null,
   "metadata": {},
   "outputs": [],
   "source": [
    "def statistics(x):\n",
    "    return pd.Series([x.count(),x.min(),x.quantile(.25),x.quantile(.50),x.quantile(.75),x.mean(),x.max(),x.std()],index = ['Count','Min','25% Quantile','50% Quantile','75% Quantile','Mean','Max','Std'])\n",
    "\n",
    "#print(statistics(train_data[\"Age\"]))\n",
    "#print(statistics(train_data[\"Fare\"]))\n",
    "#print(statistics(train_data[\"Parch\"]))\n",
    "#print(statistics(train_data[\"PassengerId\"]))\n",
    "#print(statistics(train_data[\"Survived\"]))\n",
    "#print(statistics(train_data[\"SibSp\"]))\n",
    "\n",
    "print(train_data.describe())\n",
    "\n",
    "print(train_data[\"Name\"].describe())\n",
    "print(train_data[\"Sex\"].describe())\n",
    "print(train_data[\"Embarked\"].describe())\n",
    "\n",
    "#Since \"S\" was the most common port, we will fill in \"S\" as the port for the missing values in the Embarked column\n",
    "\n",
    "train_data = train_data.fillna({\"Embarked\": \"S\"})\n",
    "test_data = test_data.fillna({\"Embarked\":\"S\"})\n",
    "\n",
    "sex_mapping = {\"male\": 0, \"female\": 1}\n",
    "train_data['Sex'] = train_data['Sex'].map(sex_mapping)\n",
    "test_data['Sex'] = test_data['Sex'].map(sex_mapping)\n",
    "\n",
    "Embarked_mapping = {\"S\":1, \"C\":2, \"Q\":3}\n",
    "train_data['Embarked'] = train_data['Embarked'].map(Embarked_mapping)\n",
    "test_data['Embarked'] = test_data['Embarked'].map(Embarked_mapping)\n",
    "\n",
    "\n"
   ]
  },
  {
   "cell_type": "code",
   "execution_count": null,
   "metadata": {},
   "outputs": [],
   "source": [
    "#Here, I am mapping my ages to 1,2,3,4,5 for better scaling\n",
    "for x in range(len(train_data[\"Age\"])):\n",
    "    if train_data[\"Age\"][x] < 15:\n",
    "        train_data[\"Age\"][x] = 1\n",
    "    if 15 <= train_data[\"Age\"][x] < 24:\n",
    "        train_data[\"Age\"][x] = 2\n",
    "    if 24 <= train_data[\"Age\"][x] < 35:\n",
    "        train_data[\"Age\"][x] = 3\n",
    "    if 35 <= train_data[\"Age\"][x] < 50:\n",
    "        train_data[\"Age\"][x] = 4\n",
    "    if train_data[\"Age\"][x] > 50:\n",
    "        train_data[\"Age\"][x] = 5\n",
    "        \n",
    "train_data[\"Age\"] = train_data[\"Age\"].fillna(1)\n",
    "\n",
    "for x in range(len(test_data[\"Age\"])):\n",
    "    if test_data[\"Age\"][x] < 15:\n",
    "        test_data[\"Age\"][x] = 1\n",
    "    if 15 <= test_data[\"Age\"][x] < 24:\n",
    "        test_data[\"Age\"][x] = 2\n",
    "    if 24 <= test_data[\"Age\"][x] < 35:\n",
    "        test_data[\"Age\"][x] = 3\n",
    "    if 35 <= test_data[\"Age\"][x] < 50:\n",
    "        test_data[\"Age\"][x] = 4\n",
    "    if test_data[\"Age\"][x] > 50:\n",
    "        test_data[\"Age\"][x] = 5\n",
    "        \n",
    "test_data[\"Age\"] = test_data[\"Age\"].fillna(1)\n"
   ]
  },
  {
   "cell_type": "code",
   "execution_count": null,
   "metadata": {},
   "outputs": [],
   "source": [
    "for x in range(len(train_data[\"Fare\"])):\n",
    "    if train_data[\"Fare\"][x] < 15:\n",
    "        train_data[\"Fare\"][x] = 1\n",
    "    if 15 <= train_data[\"Fare\"][x] < 24:\n",
    "        train_data[\"Fare\"][x] = 2\n",
    "    if 24 <= train_data[\"Fare\"][x] < 35:\n",
    "        train_data[\"Fare\"][x] = 3\n",
    "    if 35 <= train_data[\"Fare\"][x] < 50:\n",
    "        train_data[\"Fare\"][x] = 4\n",
    "    if 50 <= train_data[\"Fare\"][x] < 65:\n",
    "        train_data[\"Fare\"][x] = 5\n",
    "    if train_data[\"Fare\"][x] >= 65:\n",
    "        train_data[\"Fare\"][x] = 6\n",
    "    \n",
    "for x in range(len(test_data[\"Fare\"])):\n",
    "    if test_data[\"Fare\"][x] < 15:\n",
    "        test_data[\"Fare\"][x] = 1\n",
    "    if 15 <= test_data[\"Fare\"][x] < 24:\n",
    "        test_data[\"Fare\"][x] = 2\n",
    "    if 24 <= test_data[\"Fare\"][x] < 35:\n",
    "        test_data[\"Fare\"][x] = 3\n",
    "    if 35 <= test_data[\"Fare\"][x] < 50:\n",
    "        test_data[\"Fare\"][x] = 4\n",
    "    if 50 <= test_data[\"Fare\"][x] < 65:\n",
    "        test_data[\"Fare\"][x] = 5\n",
    "    if test_data[\"Fare\"][x] >= 65:\n",
    "        test_data[\"Fare\"][x] = 6"
   ]
  },
  {
   "cell_type": "code",
   "execution_count": null,
   "metadata": {
    "scrolled": true
   },
   "outputs": [],
   "source": [
    "predictors = train_data.drop(['Survived', 'PassengerId','Cabin','Ticket','Name'], axis=1)\n",
    "target = train_data[\"Survived\"]\n",
    "x_train, x_val, y_train, y_val = train_test_split(predictors, target, test_size = 0.22, random_state = 0)\n",
    "\n",
    "\n",
    "logreg = LogisticRegression()\n",
    "logreg.fit(x_train, y_train)\n",
    "y_pred = logreg.predict(x_val)\n",
    "acc_logreg = round(accuracy_score(y_pred, y_val) * 100, 2)\n",
    "print(acc_logreg)"
   ]
  },
  {
   "cell_type": "code",
   "execution_count": null,
   "metadata": {
    "collapsed": true
   },
   "outputs": [],
   "source": [
    "test_data = test_data.drop([\"Cabin\",'Ticket','Name'], axis = 1)"
   ]
  },
  {
   "cell_type": "code",
   "execution_count": null,
   "metadata": {
    "collapsed": true
   },
   "outputs": [],
   "source": [
    "#Test the test data\n",
    "\n",
    "test_data[\"Fare\"] = test_data[\"Fare\"].fillna(1)\n",
    "\n",
    "pred = logreg.predict(test_data.drop(['PassengerId'],axis = 1))\n",
    "\n",
    "PassengerID = test_data[\"PassengerId\"]\n",
    "\n",
    "output = pd.DataFrame({ 'PassengerId' : PassengerID, 'Survived': pred })\n",
    "output.to_csv('submission.csv', index=False)\n",
    "\n"
   ]
  }
 ],
 "metadata": {
  "kernelspec": {
   "display_name": "Python 3",
   "language": "python",
   "name": "python3"
  },
  "language_info": {
   "codemirror_mode": {
    "name": "ipython",
    "version": 3
   },
   "file_extension": ".py",
   "mimetype": "text/x-python",
   "name": "python",
   "nbconvert_exporter": "python",
   "pygments_lexer": "ipython3",
   "version": "3.6.1"
  }
 },
 "nbformat": 4,
 "nbformat_minor": 2
}
