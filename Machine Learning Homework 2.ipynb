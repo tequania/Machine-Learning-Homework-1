{
 "cells": [
  {
   "cell_type": "code",
   "execution_count": null,
   "metadata": {},
   "outputs": [],
   "source": [
    "import numpy as np\n",
    "import pandas as pd\n",
    "import matplotlib.pyplot as plt\n",
    "from sklearn.linear_model import LogisticRegression\n",
    "from sklearn.metrics import accuracy_score\n",
    "from sklearn.model_selection import train_test_split\n",
    "import seaborn as sns\n"
   ]
  },
  {
   "cell_type": "code",
   "execution_count": null,
   "metadata": {
    "collapsed": true
   },
   "outputs": [],
   "source": [
    "train_data = pd.read_csv(\"/Users/Quan/Documents/Titanic (1)/train.csv\")\n",
    "test_data = pd.read_csv(\"/Users/Quan/Documents/Titanic (1)/test.csv\")"
   ]
  },
  {
   "cell_type": "code",
   "execution_count": null,
   "metadata": {},
   "outputs": [],
   "source": [
    "train_data.head(2)"
   ]
  },
  {
   "cell_type": "code",
   "execution_count": null,
   "metadata": {
    "collapsed": true
   },
   "outputs": [],
   "source": [
    "train_data = train_data.fillna({\"Embarked\": \"S\"})\n",
    "test_data = test_data.fillna({\"Embarked\":\"S\"})\n",
    "\n",
    "sex_mapping = {\"male\": 0, \"female\": 1}\n",
    "train_data['Sex'] = train_data['Sex'].map(sex_mapping)\n",
    "test_data['Sex'] = test_data['Sex'].map(sex_mapping)\n",
    "\n",
    "Embarked_mapping = {\"S\":1, \"C\":2, \"Q\":3}\n",
    "train_data['Embarked'] = train_data['Embarked'].map(Embarked_mapping)\n",
    "test_data['Embarked'] = test_data['Embarked'].map(Embarked_mapping)"
   ]
  },
  {
   "cell_type": "code",
   "execution_count": null,
   "metadata": {},
   "outputs": [],
   "source": [
    "train_data[['Pclass', 'Survived']].groupby(['Pclass']).mean().sort_values(by='Survived', ascending=False)"
   ]
  },
  {
   "cell_type": "code",
   "execution_count": null,
   "metadata": {},
   "outputs": [],
   "source": [
    "train_data[['Sex', 'Survived']].groupby(['Sex']).mean().sort_values(by='Survived', ascending=False)"
   ]
  },
  {
   "cell_type": "code",
   "execution_count": null,
   "metadata": {},
   "outputs": [],
   "source": [
    "g = sns.FacetGrid(train_data, col='Survived')\n",
    "g.map(plt.hist, 'Age', bins=30)\n",
    "plt.show()"
   ]
  },
  {
   "cell_type": "code",
   "execution_count": null,
   "metadata": {},
   "outputs": [],
   "source": [
    "grid = sns.FacetGrid(train_data, col='Survived', row='Pclass')\n",
    "grid.map(plt.hist, 'Age', bins=20)\n",
    "grid.add_legend();\n",
    "plt.show()"
   ]
  },
  {
   "cell_type": "code",
   "execution_count": null,
   "metadata": {},
   "outputs": [],
   "source": [
    "grid = sns.FacetGrid(train_data, col='Survived', row='Embarked')\n",
    "grid.map(sns.barplot, 'Sex','Fare')\n",
    "grid.add_legend();\n",
    "plt.show()"
   ]
  },
  {
   "cell_type": "code",
   "execution_count": null,
   "metadata": {},
   "outputs": [],
   "source": [
    "train_data[\"Ticket\"].duplicated().sum()"
   ]
  },
  {
   "cell_type": "code",
   "execution_count": null,
   "metadata": {},
   "outputs": [],
   "source": [
    "train_data[\"Cabin\"].isnull().sum()"
   ]
  },
  {
   "cell_type": "code",
   "execution_count": null,
   "metadata": {},
   "outputs": [],
   "source": [
    "test_data[\"Cabin\"].isnull().sum()"
   ]
  },
  {
   "cell_type": "code",
   "execution_count": null,
   "metadata": {},
   "outputs": [],
   "source": [
    "687+327"
   ]
  },
  {
   "cell_type": "code",
   "execution_count": null,
   "metadata": {},
   "outputs": [],
   "source": [
    "train_data[\"Fare\"].mode()"
   ]
  },
  {
   "cell_type": "code",
   "execution_count": null,
   "metadata": {
    "collapsed": true
   },
   "outputs": [],
   "source": [
    "train_data[\"Fare\"]=train_data[\"Fare\"].fillna(train_data[\"Fare\"].mode())"
   ]
  },
  {
   "cell_type": "code",
   "execution_count": null,
   "metadata": {
    "collapsed": true
   },
   "outputs": [],
   "source": [
    "train_data[\"Age\"]=train_data[\"Age\"].fillna(train_data[\"Age\"].mode())"
   ]
  },
  {
   "cell_type": "code",
   "execution_count": null,
   "metadata": {},
   "outputs": [],
   "source": [
    "train_data['AgeBand'] = pd.cut(train_data['Age'], 5)\n",
    "train_data[['AgeBand', 'Survived']].groupby(['AgeBand'], as_index=False).mean().sort_values(by='AgeBand', ascending=True)"
   ]
  },
  {
   "cell_type": "code",
   "execution_count": null,
   "metadata": {},
   "outputs": [],
   "source": [
    "#Age Band\n",
    "for x in range(len(train_data[\"Age\"])):\n",
    "    if train_data[\"Age\"][x] < 16:\n",
    "        train_data[\"Age\"][x] = 0\n",
    "    if 16 <= train_data[\"Age\"][x] < 32:\n",
    "        train_data[\"Age\"][x] = 1\n",
    "    if 32 <= train_data[\"Age\"][x] < 48:\n",
    "        train_data[\"Age\"][x] = 2\n",
    "    if 48 <= train_data[\"Age\"][x] <= 64:\n",
    "        train_data[\"Age\"][x] = 3\n",
    "    if train_data[\"Age\"][x] > 64:\n",
    "        train_data[\"Age\"][x] = 4\n",
    "\n",
    "for x in range(len(test_data[\"Age\"])):\n",
    "    if test_data[\"Age\"][x] < 16:\n",
    "        test_data[\"Age\"][x] = 0\n",
    "    if 16 <= test_data[\"Age\"][x] < 32:\n",
    "        test_data[\"Age\"][x] = 1\n",
    "    if 32 <= test_data[\"Age\"][x] < 48:\n",
    "        test_data[\"Age\"][x] = 2\n",
    "    if 48 <= test_data[\"Age\"][x] <= 64:\n",
    "        test_data[\"Age\"][x] = 3\n",
    "    if test_data[\"Age\"][x] > 64:\n",
    "        test_data[\"Age\"][x] = 4"
   ]
  },
  {
   "cell_type": "code",
   "execution_count": null,
   "metadata": {},
   "outputs": [],
   "source": [
    "#Fare Band\n",
    "\n",
    "for x in range(len(train_data[\"Fare\"])):\n",
    "    if train_data[\"Fare\"][x] < 8:\n",
    "        train_data[\"Fare\"][x] = 0\n",
    "    if 8 <= train_data[\"Fare\"][x] < 14:\n",
    "        train_data[\"Fare\"][x] = 1\n",
    "    if 14 <= train_data[\"Fare\"][x] < 31:\n",
    "        train_data[\"Fare\"][x] = 2\n",
    "    if 31 <= train_data[\"Fare\"][x] <= 512.329:\n",
    "        train_data[\"Fare\"][x] = 3\n",
    "\n",
    "for x in range(len(test_data[\"Fare\"])):\n",
    "    if test_data[\"Fare\"][x] < 8:\n",
    "        test_data[\"Fare\"][x] = 0\n",
    "    if 8 <= test_data[\"Fare\"][x] < 14:\n",
    "        test_data[\"Fare\"][x] = 1\n",
    "    if 14 <= test_data[\"Fare\"][x] < 31:\n",
    "        test_data[\"Fare\"][x] = 2\n",
    "    if 31 <= test_data[\"Fare\"][x] <= 512.329:\n",
    "        test_data[\"Fare\"][x] = 3\n"
   ]
  },
  {
   "cell_type": "code",
   "execution_count": null,
   "metadata": {
    "collapsed": true
   },
   "outputs": [],
   "source": []
  }
 ],
 "metadata": {
  "kernelspec": {
   "display_name": "Python 3",
   "language": "python",
   "name": "python3"
  },
  "language_info": {
   "codemirror_mode": {
    "name": "ipython",
    "version": 3
   },
   "file_extension": ".py",
   "mimetype": "text/x-python",
   "name": "python",
   "nbconvert_exporter": "python",
   "pygments_lexer": "ipython3",
   "version": "3.6.1"
  }
 },
 "nbformat": 4,
 "nbformat_minor": 2
}
