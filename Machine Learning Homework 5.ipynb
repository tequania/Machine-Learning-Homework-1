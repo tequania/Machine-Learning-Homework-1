{
 "cells": [
  {
   "cell_type": "code",
   "execution_count": 96,
   "metadata": {},
   "outputs": [],
   "source": [
    "import pandas as pd\n",
    "import numpy as np\n",
    "from sklearn.tree import DecisionTreeClassifier\n",
    "from sklearn.neighbors import KNeighborsClassifier\n",
    "from sklearn.model_selection import cross_val_score\n",
    "import matplotlib.pyplot as plt"
   ]
  },
  {
   "cell_type": "code",
   "execution_count": 97,
   "metadata": {},
   "outputs": [],
   "source": [
    "irisdata = pd.read_csv(\"/Users/Quan/Documents/irisdata.csv\")\n",
    "irisdata = irisdata.dropna()"
   ]
  },
  {
   "cell_type": "code",
   "execution_count": 98,
   "metadata": {},
   "outputs": [],
   "source": [
    "def training(data):\n",
    "    trainXvalues = data.iloc[:,:4].values\n",
    "    trainYvalues = data.iloc[:,4].values\n",
    "    irisdataKNN = KNeighborsClassifier(n_neighbors = 10)\n",
    "    irisdataDT = DecisionTreeClassifier()\n",
    "    cv_scoreKNN = cross_val_score(irisdataKNN, trainXvalues, trainYvalues, cv=5)\n",
    "    cv_scoreDT = cross_val_score(irisdataDT, trainXvalues, trainYvalues, cv=5)\n",
    "    averageKNN = np.mean(cv_scoreKNN)\n",
    "    averageDT = np.mean(cv_scoreDT)\n",
    "    return averageKNN,averageDT\n",
    "    "
   ]
  },
  {
   "cell_type": "code",
   "execution_count": 99,
   "metadata": {},
   "outputs": [
    {
     "data": {
      "image/png": "[encoded data removed]",
      "text/plain": [
       "<Figure size 432x288 with 1 Axes>"
      ]
     },
     "metadata": {
      "needs_background": "light"
     },
     "output_type": "display_data"
    }
   ],
   "source": [
    "s = [1,2,3,4,5,6,7,8,9,10,11,12,13,14,15,16,17,18,19,20,21,22,23,24,25,26,27,28,29,30]\n",
    "score = []\n",
    "for i in range(len(s)):\n",
    "    trainXvalues = irisdata.iloc[:,:4].values\n",
    "    trainYvalues = irisdata.iloc[:,4].values\n",
    "    irisdataKNN = KNeighborsClassifier(n_neighbors = s[i])\n",
    "    cross = np.mean(cross_val_score(irisdataKNN,trainXvalues, trainYvalues, cv = 5))\n",
    "    score.append(cross)\n",
    "    \n",
    "plt.bar(s,score)\n",
    "plt.xlabel(\"Number of Neighbors\")\n",
    "plt.ylabel(\"Accuracy\")\n",
    "plt.show()    \n",
    "    \n",
    "    "
   ]
  },
  {
   "cell_type": "code",
   "execution_count": 100,
   "metadata": {},
   "outputs": [
    {
     "data": {
      "image/png": "[encoded data removed]",
      "text/plain": [
       "<Figure size 432x288 with 1 Axes>"
      ]
     },
     "metadata": {
      "needs_background": "light"
     },
     "output_type": "display_data"
    }
   ],
   "source": [
    "#Decision Tree\n",
    "trainXvalues = irisdata.iloc[:,:4].values\n",
    "trainYvalues = irisdata.iloc[:,4].values\n",
    "irisdataDTgini = DecisionTreeClassifier(criterion = \"gini\")\n",
    "crossgini = np.mean(cross_val_score(irisdataDTgini,trainXvalues, trainYvalues, cv = 5))\n",
    "irisdataDTent = DecisionTreeClassifier(criterion = \"entropy\")\n",
    "crossent = np.mean(cross_val_score(irisdataDTent,trainXvalues, trainYvalues, cv = 5))\n",
    "\n",
    "plt.bar([\"gini\",\"entropy\",\"Neighbors = 10\"],[crossgini,crossent,score[11]])\n",
    "plt.ylabel(\"Accuracy\")\n",
    "plt.show()\n"
   ]
  },
  {
   "cell_type": "code",
   "execution_count": null,
   "metadata": {},
   "outputs": [],
   "source": []
  }
 ],
 "metadata": {
  "kernelspec": {
   "display_name": "Python 3",
   "language": "python",
   "name": "python3"
  },
  "language_info": {
   "codemirror_mode": {
    "name": "ipython",
    "version": 3
   },
   "file_extension": ".py",
   "mimetype": "text/x-python",
   "name": "python",
   "nbconvert_exporter": "python",
   "pygments_lexer": "ipython3",
   "version": "3.7.4"
  }
 },
 "nbformat": 4,
 "nbformat_minor": 2
}
