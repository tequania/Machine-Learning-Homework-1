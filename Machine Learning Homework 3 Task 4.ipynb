{
 "cells": [
  {
   "cell_type": "code",
   "execution_count": 31,
   "metadata": {},
   "outputs": [
    {
     "ename": "ModuleNotFoundError",
     "evalue": "No module named 'chefboost'",
     "output_type": "error",
     "traceback": [
      "\u001b[0;31m---------------------------------------------------------------------------\u001b[0m",
      "\u001b[0;31mModuleNotFoundError\u001b[0m                       Traceback (most recent call last)",
      "\u001b[0;32m<ipython-input-31-0c6aafd396e1>\u001b[0m in \u001b[0;36m<module>\u001b[0;34m\u001b[0m\n\u001b[1;32m      4\u001b[0m \u001b[0;32mimport\u001b[0m \u001b[0mpandas\u001b[0m \u001b[0;32mas\u001b[0m \u001b[0mpd\u001b[0m\u001b[0;34m\u001b[0m\u001b[0;34m\u001b[0m\u001b[0m\n\u001b[1;32m      5\u001b[0m \u001b[0;32mfrom\u001b[0m \u001b[0msklearn\u001b[0m\u001b[0;34m.\u001b[0m\u001b[0mmetrics\u001b[0m \u001b[0;32mimport\u001b[0m \u001b[0mprecision_score\u001b[0m\u001b[0;34m,\u001b[0m\u001b[0mf1_score\u001b[0m\u001b[0;34m,\u001b[0m \u001b[0mrecall_score\u001b[0m\u001b[0;34m,\u001b[0m \u001b[0maccuracy_score\u001b[0m\u001b[0;34m\u001b[0m\u001b[0;34m\u001b[0m\u001b[0m\n\u001b[0;32m----> 6\u001b[0;31m \u001b[0;32mimport\u001b[0m \u001b[0mchefboost\u001b[0m\u001b[0;34m\u001b[0m\u001b[0;34m\u001b[0m\u001b[0m\n\u001b[0m",
      "\u001b[0;31mModuleNotFoundError\u001b[0m: No module named 'chefboost'"
     ]
    }
   ],
   "source": [
    "import numpy as np\n",
    "import graphviz\n",
    "from sklearn import tree\n",
    "import pandas as pd\n",
    "from sklearn.metrics import precision_score,f1_score, recall_score, accuracy_score\n"
   ]
  },
  {
   "cell_type": "code",
   "execution_count": 2,
   "metadata": {},
   "outputs": [],
   "source": [
    "traindata = pd.read_csv(\"/Users/Quan/Documents/TrainingSetTask4.csv\")\n",
    "testdata = pd.read_csv(\"/Users/Quan/Documents/TestingSetTask4.csv\")"
   ]
  },
  {
   "cell_type": "code",
   "execution_count": 3,
   "metadata": {},
   "outputs": [],
   "source": [
    "traindata = traindata.drop([\"Unnamed: 0\",\"Date\",\"University\"], axis = 1)\n",
    "testdata = testdata.drop([\"Unnamed: 0\",\"Date\",\"University\"],axis = 1)\n"
   ]
  },
  {
   "cell_type": "code",
   "execution_count": 4,
   "metadata": {},
   "outputs": [],
   "source": [
    "for x in range(len(traindata)):\n",
    "    if traindata[\"Home\"][x] == \"Home\":\n",
    "        traindata[\"Home\"][x] = 1\n",
    "    if traindata[\"Home\"][x] == \"Away\":\n",
    "        traindata[\"Home\"][x] = 0\n",
    "        \n",
    "for x in range(len(traindata)):\n",
    "    if traindata[\"Top25\"][x] == \"Out\":\n",
    "        traindata[\"Top25\"][x] = 0\n",
    "    if traindata[\"Top25\"][x] == \"In\":\n",
    "        traindata[\"Top25\"][x] = 1\n",
    "        \n",
    "for x in range(len(traindata)):\n",
    "    if traindata[\"Media\"][x] == \"1-NBC\":\n",
    "        traindata[\"Media\"][x] = 1\n",
    "    if traindata[\"Media\"][x] == \"2-ESPN\":\n",
    "        traindata[\"Media\"][x] = 2\n",
    "    if traindata[\"Media\"][x] == \"3-FOX\":\n",
    "        traindata[\"Media\"][x] = 3\n",
    "    if traindata[\"Media\"][x] == \"4-ABC\":\n",
    "        traindata[\"Media\"][x] = 4\n",
    "        \n",
    "for x in range(len(traindata)):\n",
    "    if traindata[\"WinLose\"][x] == \"Win\":\n",
    "        traindata[\"WinLose\"][x] = 1\n",
    "    if traindata[\"WinLose\"][x] == \"Lose\":\n",
    "        traindata[\"WinLose\"][x] = 0\n",
    "        \n",
    "for x in range(len(testdata)):\n",
    "    if testdata[\"Home\"][x] == \"Home\":\n",
    "        testdata[\"Home\"][x] = 1\n",
    "    if testdata[\"Home\"][x] == \"Away\":\n",
    "        testdata[\"Home\"][x] = 0\n",
    "        \n",
    "for x in range(len(testdata)):\n",
    "    if testdata[\"Top25\"][x] == \"Out\":\n",
    "        testdata[\"Top25\"][x] = 0\n",
    "    if testdata[\"Top25\"][x] == \"In\":\n",
    "        testdata[\"Top25\"][x] = 1\n",
    "        \n",
    "for x in range(len(testdata)):\n",
    "    if testdata[\"Media\"][x] == \"1-NBC\":\n",
    "        testdata[\"Media\"][x] = 1\n",
    "    if testdata[\"Media\"][x] == \"2-ESPN\":\n",
    "        testdata[\"Media\"][x] = 2\n",
    "    if testdata[\"Media\"][x] == \"3-FOX\":\n",
    "        testdata[\"Media\"][x] = 3\n",
    "    if testdata[\"Media\"][x] == \"4-ABC\":\n",
    "        testdata[\"Media\"][x] = 4\n",
    "        \n",
    "\n",
    "        \n",
    "    \n",
    "    "
   ]
  },
  {
   "cell_type": "code",
   "execution_count": 5,
   "metadata": {},
   "outputs": [],
   "source": [
    "traindata[\"WinLose\"]=traindata[\"WinLose\"].astype('int')\n",
    "dtent = tree.DecisionTreeClassifier(criterion = \"entropy\")\n",
    "predictors = traindata.drop(['WinLose'], axis=1)\n",
    "response = traindata[\"WinLose\"]\n",
    "dtentfit = dtent.fit(predictors,response)"
   ]
  },
  {
   "cell_type": "code",
   "execution_count": 6,
   "metadata": {},
   "outputs": [
    {
     "data": {
      "text/plain": [
       "[Text(248.0, 277.2, 'X[1] <= 0.5\\nentropy = 0.65\\nsamples = 6\\nvalue = [1, 5]'),\n",
       " Text(124.0, 92.39999999999998, 'entropy = 0.0\\nsamples = 5\\nvalue = [0, 5]'),\n",
       " Text(372.0, 92.39999999999998, 'entropy = 0.0\\nsamples = 1\\nvalue = [1, 0]')]"
      ]
     },
     "execution_count": 6,
     "metadata": {},
     "output_type": "execute_result"
    }
   ],
   "source": [
    "tree.plot_tree(dtentfit)"
   ]
  },
  {
   "cell_type": "code",
   "execution_count": 7,
   "metadata": {},
   "outputs": [],
   "source": [
    "data = tree.export_graphviz(dtent,out_file=None,feature_names= [\"Home\",\"Top25\",\"Media\"],class_names = [\"Lose\",\"Win\"],filled=True,rounded=True,special_characters=True)"
   ]
  },
  {
   "cell_type": "code",
   "execution_count": 8,
   "metadata": {},
   "outputs": [],
   "source": [
    "graph = graphviz.Source(data)"
   ]
  },
  {
   "cell_type": "code",
   "execution_count": 9,
   "metadata": {},
   "outputs": [
    {
     "data": {
      "text/plain": [
       "'/Users/QUAN/Documents/Q4PartlID3.png'"
      ]
     },
     "execution_count": 9,
     "metadata": {},
     "output_type": "execute_result"
    }
   ],
   "source": [
    "graph.render(filename = \"Q4PartlID3\", directory = \"/Users/QUAN/Documents/\", format = \"png\")"
   ]
  },
  {
   "cell_type": "code",
   "execution_count": 10,
   "metadata": {},
   "outputs": [
    {
     "data": {
      "image/svg+xml": [
       "<?xml version=\"1.0\" encoding=\"UTF-8\" standalone=\"no\"?>\n",
       "<!DOCTYPE svg PUBLIC \"-//W3C//DTD SVG 1.1//EN\"\n",
       " \"http://www.w3.org/Graphics/SVG/1.1/DTD/svg11.dtd\">\n",
       "<!-- Generated by graphviz version 2.40.1 (20161225.0304)\n",
       " -->\n",
       "<!-- Title: Tree Pages: 1 -->\n",
       "<svg width=\"224pt\" height=\"195pt\"\n",
       " viewBox=\"0.00 0.00 224.00 195.00\" xmlns=\"http://www.w3.org/2000/svg\" xmlns:xlink=\"http://www.w3.org/1999/xlink\">\n",
       "<g id=\"graph0\" class=\"graph\" transform=\"scale(1 1) rotate(0) translate(4 191)\">\n",
       "<title>Tree</title>\n",
       "<polygon fill=\"#ffffff\" stroke=\"transparent\" points=\"-4,4 -4,-191 220,-191 220,4 -4,4\"/>\n",
       "<!-- 0 -->\n",
       "<g id=\"node1\" class=\"node\">\n",
       "<title>0</title>\n",
       "<path fill=\"#61b1ea\" stroke=\"#000000\" d=\"M148.5,-187C148.5,-187 66.5,-187 66.5,-187 60.5,-187 54.5,-181 54.5,-175 54.5,-175 54.5,-116 54.5,-116 54.5,-110 60.5,-104 66.5,-104 66.5,-104 148.5,-104 148.5,-104 154.5,-104 160.5,-110 160.5,-116 160.5,-116 160.5,-175 160.5,-175 160.5,-181 154.5,-187 148.5,-187\"/>\n",
       "<text text-anchor=\"start\" x=\"70\" y=\"-171.8\" font-family=\"Helvetica,sans-Serif\" font-size=\"14.00\" fill=\"#000000\">Top25 ≤ 0.5</text>\n",
       "<text text-anchor=\"start\" x=\"62.5\" y=\"-156.8\" font-family=\"Helvetica,sans-Serif\" font-size=\"14.00\" fill=\"#000000\">entropy = 0.65</text>\n",
       "<text text-anchor=\"start\" x=\"69.5\" y=\"-141.8\" font-family=\"Helvetica,sans-Serif\" font-size=\"14.00\" fill=\"#000000\">samples = 6</text>\n",
       "<text text-anchor=\"start\" x=\"67\" y=\"-126.8\" font-family=\"Helvetica,sans-Serif\" font-size=\"14.00\" fill=\"#000000\">value = [1, 5]</text>\n",
       "<text text-anchor=\"start\" x=\"71.5\" y=\"-111.8\" font-family=\"Helvetica,sans-Serif\" font-size=\"14.00\" fill=\"#000000\">class = Win</text>\n",
       "</g>\n",
       "<!-- 1 -->\n",
       "<g id=\"node2\" class=\"node\">\n",
       "<title>1</title>\n",
       "<path fill=\"#399de5\" stroke=\"#000000\" d=\"M87,-68C87,-68 12,-68 12,-68 6,-68 0,-62 0,-56 0,-56 0,-12 0,-12 0,-6 6,0 12,0 12,0 87,0 87,0 93,0 99,-6 99,-12 99,-12 99,-56 99,-56 99,-62 93,-68 87,-68\"/>\n",
       "<text text-anchor=\"start\" x=\"8\" y=\"-52.8\" font-family=\"Helvetica,sans-Serif\" font-size=\"14.00\" fill=\"#000000\">entropy = 0.0</text>\n",
       "<text text-anchor=\"start\" x=\"11.5\" y=\"-37.8\" font-family=\"Helvetica,sans-Serif\" font-size=\"14.00\" fill=\"#000000\">samples = 5</text>\n",
       "<text text-anchor=\"start\" x=\"9\" y=\"-22.8\" font-family=\"Helvetica,sans-Serif\" font-size=\"14.00\" fill=\"#000000\">value = [0, 5]</text>\n",
       "<text text-anchor=\"start\" x=\"13.5\" y=\"-7.8\" font-family=\"Helvetica,sans-Serif\" font-size=\"14.00\" fill=\"#000000\">class = Win</text>\n",
       "</g>\n",
       "<!-- 0&#45;&gt;1 -->\n",
       "<g id=\"edge1\" class=\"edge\">\n",
       "<title>0&#45;&gt;1</title>\n",
       "<path fill=\"none\" stroke=\"#000000\" d=\"M85.9029,-103.9815C81.3612,-95.2504 76.5598,-86.0202 71.9863,-77.2281\"/>\n",
       "<polygon fill=\"#000000\" stroke=\"#000000\" points=\"75.0431,-75.52 67.3233,-68.2637 68.8331,-78.7504 75.0431,-75.52\"/>\n",
       "<text text-anchor=\"middle\" x=\"59.7983\" y=\"-88.4043\" font-family=\"Helvetica,sans-Serif\" font-size=\"14.00\" fill=\"#000000\">True</text>\n",
       "</g>\n",
       "<!-- 2 -->\n",
       "<g id=\"node3\" class=\"node\">\n",
       "<title>2</title>\n",
       "<path fill=\"#e58139\" stroke=\"#000000\" d=\"M204,-68C204,-68 129,-68 129,-68 123,-68 117,-62 117,-56 117,-56 117,-12 117,-12 117,-6 123,0 129,0 129,0 204,0 204,0 210,0 216,-6 216,-12 216,-12 216,-56 216,-56 216,-62 210,-68 204,-68\"/>\n",
       "<text text-anchor=\"start\" x=\"125\" y=\"-52.8\" font-family=\"Helvetica,sans-Serif\" font-size=\"14.00\" fill=\"#000000\">entropy = 0.0</text>\n",
       "<text text-anchor=\"start\" x=\"128.5\" y=\"-37.8\" font-family=\"Helvetica,sans-Serif\" font-size=\"14.00\" fill=\"#000000\">samples = 1</text>\n",
       "<text text-anchor=\"start\" x=\"126\" y=\"-22.8\" font-family=\"Helvetica,sans-Serif\" font-size=\"14.00\" fill=\"#000000\">value = [1, 0]</text>\n",
       "<text text-anchor=\"start\" x=\"127\" y=\"-7.8\" font-family=\"Helvetica,sans-Serif\" font-size=\"14.00\" fill=\"#000000\">class = Lose</text>\n",
       "</g>\n",
       "<!-- 0&#45;&gt;2 -->\n",
       "<g id=\"edge2\" class=\"edge\">\n",
       "<title>0&#45;&gt;2</title>\n",
       "<path fill=\"none\" stroke=\"#000000\" d=\"M129.4694,-103.9815C134.0895,-95.2504 138.9736,-86.0202 143.626,-77.2281\"/>\n",
       "<polygon fill=\"#000000\" stroke=\"#000000\" points=\"146.7859,-78.7395 148.3694,-68.2637 140.5987,-75.4655 146.7859,-78.7395\"/>\n",
       "<text text-anchor=\"middle\" x=\"155.7265\" y=\"-88.4566\" font-family=\"Helvetica,sans-Serif\" font-size=\"14.00\" fill=\"#000000\">False</text>\n",
       "</g>\n",
       "</g>\n",
       "</svg>\n"
      ],
      "text/plain": [
       "<graphviz.files.Source at 0x1a23dde710>"
      ]
     },
     "execution_count": 10,
     "metadata": {},
     "output_type": "execute_result"
    }
   ],
   "source": [
    "dtentpred = dtentfit.predict(testdata)\n",
    "datapred = tree.export_graphviz(dtent,out_file=None,feature_names= [\"Home\",\"Top25\",\"Media\"],class_names = [\"Lose\",\"Win\"],filled=True,rounded=True,special_characters=True)\n",
    "graph = graphviz.Source(datapred)\n",
    "graph"
   ]
  },
  {
   "cell_type": "code",
   "execution_count": 11,
   "metadata": {},
   "outputs": [],
   "source": [
    "Home = testdata['Home']\n",
    "Top25 = testdata['Top25']\n",
    "Media = testdata['Media']\n",
    "\n",
    "output = pd.DataFrame({ 'Home' : Home,'Top25' : Top25 ,'Media':Media,'WinLose': dtentpred })\n",
    "output.to_csv('task4part1ent.csv', index=False)"
   ]
  },
  {
   "cell_type": "code",
   "execution_count": 12,
   "metadata": {},
   "outputs": [],
   "source": [
    "#NOW TO SPLIT USING GINI, of course we have to redefine the testing and training set \n",
    "#but I will not do that because we already understand that we have to. \n"
   ]
  },
  {
   "cell_type": "code",
   "execution_count": 13,
   "metadata": {},
   "outputs": [],
   "source": [
    "traindata = pd.read_csv(\"/Users/Quan/Documents/TrainingSetTask4.csv\")\n",
    "testdata = pd.read_csv(\"/Users/Quan/Documents/TestingSetTask4.csv\")\n",
    "\n",
    "traindata = traindata.drop([\"Unnamed: 0\",\"Date\",\"University\"], axis = 1)\n",
    "testdata = testdata.drop([\"Unnamed: 0\",\"Date\",\"University\"],axis = 1)\n",
    "\n",
    "for x in range(len(traindata)):\n",
    "    if traindata[\"Home\"][x] == \"Home\":\n",
    "        traindata[\"Home\"][x] = 1\n",
    "    if traindata[\"Home\"][x] == \"Away\":\n",
    "        traindata[\"Home\"][x] = 0\n",
    "        \n",
    "for x in range(len(traindata)):\n",
    "    if traindata[\"Top25\"][x] == \"Out\":\n",
    "        traindata[\"Top25\"][x] = 0\n",
    "    if traindata[\"Top25\"][x] == \"In\":\n",
    "        traindata[\"Top25\"][x] = 1\n",
    "        \n",
    "for x in range(len(traindata)):\n",
    "    if traindata[\"Media\"][x] == \"1-NBC\":\n",
    "        traindata[\"Media\"][x] = 1\n",
    "    if traindata[\"Media\"][x] == \"2-ESPN\":\n",
    "        traindata[\"Media\"][x] = 2\n",
    "    if traindata[\"Media\"][x] == \"3-FOX\":\n",
    "        traindata[\"Media\"][x] = 3\n",
    "    if traindata[\"Media\"][x] == \"4-ABC\":\n",
    "        traindata[\"Media\"][x] = 4\n",
    "        \n",
    "for x in range(len(traindata)):\n",
    "    if traindata[\"WinLose\"][x] == \"Win\":\n",
    "        traindata[\"WinLose\"][x] = 1\n",
    "    if traindata[\"WinLose\"][x] == \"Lose\":\n",
    "        traindata[\"WinLose\"][x] = 0\n",
    "        \n",
    "for x in range(len(testdata)):\n",
    "    if testdata[\"Home\"][x] == \"Home\":\n",
    "        testdata[\"Home\"][x] = 1\n",
    "    if testdata[\"Home\"][x] == \"Away\":\n",
    "        testdata[\"Home\"][x] = 0\n",
    "        \n",
    "for x in range(len(testdata)):\n",
    "    if testdata[\"Top25\"][x] == \"Out\":\n",
    "        testdata[\"Top25\"][x] = 0\n",
    "    if testdata[\"Top25\"][x] == \"In\":\n",
    "        testdata[\"Top25\"][x] = 1\n",
    "        \n",
    "for x in range(len(testdata)):\n",
    "    if testdata[\"Media\"][x] == \"1-NBC\":\n",
    "        testdata[\"Media\"][x] = 1\n",
    "    if testdata[\"Media\"][x] == \"2-ESPN\":\n",
    "        testdata[\"Media\"][x] = 2\n",
    "    if testdata[\"Media\"][x] == \"3-FOX\":\n",
    "        testdata[\"Media\"][x] = 3\n",
    "    if testdata[\"Media\"][x] == \"4-ABC\":\n",
    "        testdata[\"Media\"][x] = 4\n",
    "\n",
    "\n",
    "\n",
    "traindata[\"WinLose\"]=traindata[\"WinLose\"].astype('int')\n",
    "dtgini = tree.DecisionTreeClassifier(criterion = \"gini\")\n",
    "predictors = traindata.drop(['WinLose'], axis=1)\n",
    "response = traindata[\"WinLose\"]\n",
    "dtginifit = dtgini.fit(predictors,response)"
   ]
  },
  {
   "cell_type": "code",
   "execution_count": 14,
   "metadata": {},
   "outputs": [
    {
     "data": {
      "text/plain": [
       "[Text(167.4, 163.07999999999998, 'X[1] <= 0.5\\ngini = 0.278\\nsamples = 6\\nvalue = [1, 5]'),\n",
       " Text(83.7, 54.360000000000014, 'gini = 0.0\\nsamples = 5\\nvalue = [0, 5]'),\n",
       " Text(251.10000000000002, 54.360000000000014, 'gini = 0.0\\nsamples = 1\\nvalue = [1, 0]')]"
      ]
     },
     "execution_count": 14,
     "metadata": {},
     "output_type": "execute_result"
    },
    {
     "data": {
      "image/png": "[encoded data removed]",
      "text/plain": [
       "<Figure size 432x288 with 1 Axes>"
      ]
     },
     "metadata": {
      "needs_background": "light"
     },
     "output_type": "display_data"
    }
   ],
   "source": [
    "tree.plot_tree(dtginifit)"
   ]
  },
  {
   "cell_type": "code",
   "execution_count": 15,
   "metadata": {},
   "outputs": [],
   "source": [
    "datagini = tree.export_graphviz(dtgini,out_file=None,feature_names= [\"Home\",\"Top25\",\"Media\"],class_names = [\"Lose\",\"Win\"],filled=True,rounded=True,special_characters=True)"
   ]
  },
  {
   "cell_type": "code",
   "execution_count": 16,
   "metadata": {},
   "outputs": [],
   "source": [
    "graph = graphviz.Source(datagini)"
   ]
  },
  {
   "cell_type": "code",
   "execution_count": 17,
   "metadata": {},
   "outputs": [
    {
     "data": {
      "text/plain": [
       "'/Users/QUAN/Documents/Q4Part1Cart.png'"
      ]
     },
     "execution_count": 17,
     "metadata": {},
     "output_type": "execute_result"
    }
   ],
   "source": [
    "graph.render(filename = \"Q4Part1Cart\", directory = \"/Users/QUAN/Documents/\", format = \"png\")"
   ]
  },
  {
   "cell_type": "code",
   "execution_count": 18,
   "metadata": {},
   "outputs": [],
   "source": [
    "dtginipred=dtgini.predict(testdata)"
   ]
  },
  {
   "cell_type": "code",
   "execution_count": 19,
   "metadata": {},
   "outputs": [],
   "source": [
    "Home = testdata['Home']\n",
    "Top25 = testdata['Top25']\n",
    "Media = testdata['Media']\n",
    "\n",
    "output = pd.DataFrame({ 'Home' : Home,'Top25' : Top25 ,'Media':Media,'WinLose': dtginipred })\n",
    "output.to_csv('task4part1gini.csv', index=False)"
   ]
  },
  {
   "cell_type": "code",
   "execution_count": 20,
   "metadata": {},
   "outputs": [],
   "source": [
    "#Part 4 Question 2"
   ]
  },
  {
   "cell_type": "code",
   "execution_count": 21,
   "metadata": {},
   "outputs": [],
   "source": [
    "train = {'outlook':[1,1,2,3,3,3,2,1,1,3,1,2,2,3],'temp':[1,1,1,2,3,3,3,2,3,2,2,2,1,2],'humidity':[1,1,1,1,0,0,0,1,0,0,0,1,0,1],'windy':[0,1,0,0,0,1,1,0,0,0,1,1,0,1],'play':[0,0,1,1,1,0,1,0,1,1,1,1,1,0]}"
   ]
  },
  {
   "cell_type": "code",
   "execution_count": 22,
   "metadata": {},
   "outputs": [],
   "source": [
    "traindata = pd.DataFrame(train)"
   ]
  },
  {
   "cell_type": "code",
   "execution_count": 23,
   "metadata": {},
   "outputs": [
    {
     "data": {
      "text/plain": [
       "'/Users/QUAN/Documents/Q4Part2ID3.png'"
      ]
     },
     "execution_count": 23,
     "metadata": {},
     "output_type": "execute_result"
    },
    {
     "data": {
      "image/png": "[encoded data removed]",
      "text/plain": [
       "<Figure size 432x288 with 1 Axes>"
      ]
     },
     "metadata": {
      "needs_background": "light"
     },
     "output_type": "display_data"
    }
   ],
   "source": [
    "traindata[\"play\"]=traindata[\"play\"].astype('int')\n",
    "dtent = tree.DecisionTreeClassifier(criterion = \"entropy\")\n",
    "predictors = traindata.drop(['play'], axis = 1)\n",
    "response = traindata['play']\n",
    "dtentfit = dtent.fit(predictors,response)\n",
    "tree.plot_tree(dtentfit)\n",
    "data = tree.export_graphviz(dtent,out_file=None,feature_names= [\"Outlook\",\"Temp\",\"Humidity\",\"Windy\"],class_names = [\"Yes\",\"No\"],filled=True,rounded=True,special_characters=True)\n",
    "graph = graphviz.Source(data)\n",
    "graph.render(filename = \"Q4Part2ID3\", directory = \"/Users/QUAN/Documents/\", format = \"png\")"
   ]
  },
  {
   "cell_type": "code",
   "execution_count": 24,
   "metadata": {},
   "outputs": [
    {
     "data": {
      "text/plain": [
       "'/Users/QUAN/Documents/Q4Part2Cart.png'"
      ]
     },
     "execution_count": 24,
     "metadata": {},
     "output_type": "execute_result"
    },
    {
     "data": {
      "image/png": "[encoded data removed]",
      "text/plain": [
       "<Figure size 432x288 with 1 Axes>"
      ]
     },
     "metadata": {
      "needs_background": "light"
     },
     "output_type": "display_data"
    }
   ],
   "source": [
    "traindata[\"play\"]=traindata[\"play\"].astype('int')\n",
    "dtgini = tree.DecisionTreeClassifier(criterion = \"gini\")\n",
    "predictors = traindata.drop(['play'], axis = 1)\n",
    "response = traindata['play']\n",
    "dtginifit = dtgini.fit(predictors,response)\n",
    "tree.plot_tree(dtginifit)\n",
    "data = tree.export_graphviz(dtgini,out_file=None,feature_names= [\"Outlook\",\"Temp\",\"Humidity\",\"Windy\"],class_names = [\"Yes\",\"No\"],filled=True,rounded=True,special_characters=True)\n",
    "graph = graphviz.Source(data)\n",
    "graph.render(filename = \"Q4Part2Cart\", directory = \"/Users/QUAN/Documents/\", format = \"png\")"
   ]
  },
  {
   "cell_type": "code",
   "execution_count": 25,
   "metadata": {},
   "outputs": [
    {
     "data": {
      "image/svg+xml": [
       "<?xml version=\"1.0\" encoding=\"UTF-8\" standalone=\"no\"?>\n",
       "<!DOCTYPE svg PUBLIC \"-//W3C//DTD SVG 1.1//EN\"\n",
       " \"http://www.w3.org/Graphics/SVG/1.1/DTD/svg11.dtd\">\n",
       "<!-- Generated by graphviz version 2.40.1 (20161225.0304)\n",
       " -->\n",
       "<!-- Title: Tree Pages: 1 -->\n",
       "<svg width=\"568pt\" height=\"552pt\"\n",
       " viewBox=\"0.00 0.00 568.00 552.00\" xmlns=\"http://www.w3.org/2000/svg\" xmlns:xlink=\"http://www.w3.org/1999/xlink\">\n",
       "<g id=\"graph0\" class=\"graph\" transform=\"scale(1 1) rotate(0) translate(4 548)\">\n",
       "<title>Tree</title>\n",
       "<polygon fill=\"#ffffff\" stroke=\"transparent\" points=\"-4,4 -4,-548 564,-548 564,4 -4,4\"/>\n",
       "<!-- 0 -->\n",
       "<g id=\"node1\" class=\"node\">\n",
       "<title>0</title>\n",
       "<path fill=\"#a7d3f3\" stroke=\"#000000\" d=\"M264.5,-544C264.5,-544 182.5,-544 182.5,-544 176.5,-544 170.5,-538 170.5,-532 170.5,-532 170.5,-473 170.5,-473 170.5,-467 176.5,-461 182.5,-461 182.5,-461 264.5,-461 264.5,-461 270.5,-461 276.5,-467 276.5,-473 276.5,-473 276.5,-532 276.5,-532 276.5,-538 270.5,-544 264.5,-544\"/>\n",
       "<text text-anchor=\"start\" x=\"178.5\" y=\"-528.8\" font-family=\"Helvetica,sans-Serif\" font-size=\"14.00\" fill=\"#000000\">Humidity ≤ 0.5</text>\n",
       "<text text-anchor=\"start\" x=\"187\" y=\"-513.8\" font-family=\"Helvetica,sans-Serif\" font-size=\"14.00\" fill=\"#000000\">gini = 0.459</text>\n",
       "<text text-anchor=\"start\" x=\"181.5\" y=\"-498.8\" font-family=\"Helvetica,sans-Serif\" font-size=\"14.00\" fill=\"#000000\">samples = 14</text>\n",
       "<text text-anchor=\"start\" x=\"183\" y=\"-483.8\" font-family=\"Helvetica,sans-Serif\" font-size=\"14.00\" fill=\"#000000\">value = [5, 9]</text>\n",
       "<text text-anchor=\"start\" x=\"190.5\" y=\"-468.8\" font-family=\"Helvetica,sans-Serif\" font-size=\"14.00\" fill=\"#000000\">class = No</text>\n",
       "</g>\n",
       "<!-- 1 -->\n",
       "<g id=\"node2\" class=\"node\">\n",
       "<title>1</title>\n",
       "<path fill=\"#5aade9\" stroke=\"#000000\" d=\"M202,-425C202,-425 129,-425 129,-425 123,-425 117,-419 117,-413 117,-413 117,-354 117,-354 117,-348 123,-342 129,-342 129,-342 202,-342 202,-342 208,-342 214,-348 214,-354 214,-354 214,-413 214,-413 214,-419 208,-425 202,-425\"/>\n",
       "<text text-anchor=\"start\" x=\"128.5\" y=\"-409.8\" font-family=\"Helvetica,sans-Serif\" font-size=\"14.00\" fill=\"#000000\">Windy ≤ 0.5</text>\n",
       "<text text-anchor=\"start\" x=\"129\" y=\"-394.8\" font-family=\"Helvetica,sans-Serif\" font-size=\"14.00\" fill=\"#000000\">gini = 0.245</text>\n",
       "<text text-anchor=\"start\" x=\"127.5\" y=\"-379.8\" font-family=\"Helvetica,sans-Serif\" font-size=\"14.00\" fill=\"#000000\">samples = 7</text>\n",
       "<text text-anchor=\"start\" x=\"125\" y=\"-364.8\" font-family=\"Helvetica,sans-Serif\" font-size=\"14.00\" fill=\"#000000\">value = [1, 6]</text>\n",
       "<text text-anchor=\"start\" x=\"132.5\" y=\"-349.8\" font-family=\"Helvetica,sans-Serif\" font-size=\"14.00\" fill=\"#000000\">class = No</text>\n",
       "</g>\n",
       "<!-- 0&#45;&gt;1 -->\n",
       "<g id=\"edge1\" class=\"edge\">\n",
       "<title>0&#45;&gt;1</title>\n",
       "<path fill=\"none\" stroke=\"#000000\" d=\"M203.2144,-460.8796C199.0443,-452.3236 194.6091,-443.2238 190.3003,-434.3833\"/>\n",
       "<polygon fill=\"#000000\" stroke=\"#000000\" points=\"193.3997,-432.7538 185.8722,-425.2981 187.1073,-435.8207 193.3997,-432.7538\"/>\n",
       "<text text-anchor=\"middle\" x=\"177.7265\" y=\"-445.2338\" font-family=\"Helvetica,sans-Serif\" font-size=\"14.00\" fill=\"#000000\">True</text>\n",
       "</g>\n",
       "<!-- 6 -->\n",
       "<g id=\"node7\" class=\"node\">\n",
       "<title>6</title>\n",
       "<path fill=\"#f8e0ce\" stroke=\"#000000\" d=\"M320.5,-425C320.5,-425 244.5,-425 244.5,-425 238.5,-425 232.5,-419 232.5,-413 232.5,-413 232.5,-354 232.5,-354 232.5,-348 238.5,-342 244.5,-342 244.5,-342 320.5,-342 320.5,-342 326.5,-342 332.5,-348 332.5,-354 332.5,-354 332.5,-413 332.5,-413 332.5,-419 326.5,-425 320.5,-425\"/>\n",
       "<text text-anchor=\"start\" x=\"240.5\" y=\"-409.8\" font-family=\"Helvetica,sans-Serif\" font-size=\"14.00\" fill=\"#000000\">Outlook ≤ 1.5</text>\n",
       "<text text-anchor=\"start\" x=\"250\" y=\"-394.8\" font-family=\"Helvetica,sans-Serif\" font-size=\"14.00\" fill=\"#000000\">gini = 0.49</text>\n",
       "<text text-anchor=\"start\" x=\"244.5\" y=\"-379.8\" font-family=\"Helvetica,sans-Serif\" font-size=\"14.00\" fill=\"#000000\">samples = 7</text>\n",
       "<text text-anchor=\"start\" x=\"242\" y=\"-364.8\" font-family=\"Helvetica,sans-Serif\" font-size=\"14.00\" fill=\"#000000\">value = [4, 3]</text>\n",
       "<text text-anchor=\"start\" x=\"246.5\" y=\"-349.8\" font-family=\"Helvetica,sans-Serif\" font-size=\"14.00\" fill=\"#000000\">class = Yes</text>\n",
       "</g>\n",
       "<!-- 0&#45;&gt;6 -->\n",
       "<g id=\"edge6\" class=\"edge\">\n",
       "<title>0&#45;&gt;6</title>\n",
       "<path fill=\"none\" stroke=\"#000000\" d=\"M244.1353,-460.8796C248.3774,-452.3236 252.889,-443.2238 257.2721,-434.3833\"/>\n",
       "<polygon fill=\"#000000\" stroke=\"#000000\" points=\"260.4703,-435.8121 261.7766,-425.2981 254.1988,-432.7026 260.4703,-435.8121\"/>\n",
       "<text text-anchor=\"middle\" x=\"269.7621\" y=\"-445.2884\" font-family=\"Helvetica,sans-Serif\" font-size=\"14.00\" fill=\"#000000\">False</text>\n",
       "</g>\n",
       "<!-- 2 -->\n",
       "<g id=\"node3\" class=\"node\">\n",
       "<title>2</title>\n",
       "<path fill=\"#399de5\" stroke=\"#000000\" d=\"M85,-298.5C85,-298.5 12,-298.5 12,-298.5 6,-298.5 0,-292.5 0,-286.5 0,-286.5 0,-242.5 0,-242.5 0,-236.5 6,-230.5 12,-230.5 12,-230.5 85,-230.5 85,-230.5 91,-230.5 97,-236.5 97,-242.5 97,-242.5 97,-286.5 97,-286.5 97,-292.5 91,-298.5 85,-298.5\"/>\n",
       "<text text-anchor=\"start\" x=\"19.5\" y=\"-283.3\" font-family=\"Helvetica,sans-Serif\" font-size=\"14.00\" fill=\"#000000\">gini = 0.0</text>\n",
       "<text text-anchor=\"start\" x=\"10.5\" y=\"-268.3\" font-family=\"Helvetica,sans-Serif\" font-size=\"14.00\" fill=\"#000000\">samples = 4</text>\n",
       "<text text-anchor=\"start\" x=\"8\" y=\"-253.3\" font-family=\"Helvetica,sans-Serif\" font-size=\"14.00\" fill=\"#000000\">value = [0, 4]</text>\n",
       "<text text-anchor=\"start\" x=\"15.5\" y=\"-238.3\" font-family=\"Helvetica,sans-Serif\" font-size=\"14.00\" fill=\"#000000\">class = No</text>\n",
       "</g>\n",
       "<!-- 1&#45;&gt;2 -->\n",
       "<g id=\"edge2\" class=\"edge\">\n",
       "<title>1&#45;&gt;2</title>\n",
       "<path fill=\"none\" stroke=\"#000000\" d=\"M124.5791,-341.8796C113.2272,-330.3337 100.9018,-317.7976 89.543,-306.2446\"/>\n",
       "<polygon fill=\"#000000\" stroke=\"#000000\" points=\"91.7449,-303.4919 82.2382,-298.8149 86.7534,-308.3995 91.7449,-303.4919\"/>\n",
       "</g>\n",
       "<!-- 3 -->\n",
       "<g id=\"node4\" class=\"node\">\n",
       "<title>3</title>\n",
       "<path fill=\"#9ccef2\" stroke=\"#000000\" d=\"M203.5,-306C203.5,-306 127.5,-306 127.5,-306 121.5,-306 115.5,-300 115.5,-294 115.5,-294 115.5,-235 115.5,-235 115.5,-229 121.5,-223 127.5,-223 127.5,-223 203.5,-223 203.5,-223 209.5,-223 215.5,-229 215.5,-235 215.5,-235 215.5,-294 215.5,-294 215.5,-300 209.5,-306 203.5,-306\"/>\n",
       "<text text-anchor=\"start\" x=\"123.5\" y=\"-290.8\" font-family=\"Helvetica,sans-Serif\" font-size=\"14.00\" fill=\"#000000\">Outlook ≤ 2.5</text>\n",
       "<text text-anchor=\"start\" x=\"129\" y=\"-275.8\" font-family=\"Helvetica,sans-Serif\" font-size=\"14.00\" fill=\"#000000\">gini = 0.444</text>\n",
       "<text text-anchor=\"start\" x=\"127.5\" y=\"-260.8\" font-family=\"Helvetica,sans-Serif\" font-size=\"14.00\" fill=\"#000000\">samples = 3</text>\n",
       "<text text-anchor=\"start\" x=\"125\" y=\"-245.8\" font-family=\"Helvetica,sans-Serif\" font-size=\"14.00\" fill=\"#000000\">value = [1, 2]</text>\n",
       "<text text-anchor=\"start\" x=\"132.5\" y=\"-230.8\" font-family=\"Helvetica,sans-Serif\" font-size=\"14.00\" fill=\"#000000\">class = No</text>\n",
       "</g>\n",
       "<!-- 1&#45;&gt;3 -->\n",
       "<g id=\"edge3\" class=\"edge\">\n",
       "<title>1&#45;&gt;3</title>\n",
       "<path fill=\"none\" stroke=\"#000000\" d=\"M165.5,-341.8796C165.5,-333.6838 165.5,-324.9891 165.5,-316.5013\"/>\n",
       "<polygon fill=\"#000000\" stroke=\"#000000\" points=\"169.0001,-316.298 165.5,-306.2981 162.0001,-316.2981 169.0001,-316.298\"/>\n",
       "</g>\n",
       "<!-- 4 -->\n",
       "<g id=\"node5\" class=\"node\">\n",
       "<title>4</title>\n",
       "<path fill=\"#399de5\" stroke=\"#000000\" d=\"M144,-179.5C144,-179.5 71,-179.5 71,-179.5 65,-179.5 59,-173.5 59,-167.5 59,-167.5 59,-123.5 59,-123.5 59,-117.5 65,-111.5 71,-111.5 71,-111.5 144,-111.5 144,-111.5 150,-111.5 156,-117.5 156,-123.5 156,-123.5 156,-167.5 156,-167.5 156,-173.5 150,-179.5 144,-179.5\"/>\n",
       "<text text-anchor=\"start\" x=\"78.5\" y=\"-164.3\" font-family=\"Helvetica,sans-Serif\" font-size=\"14.00\" fill=\"#000000\">gini = 0.0</text>\n",
       "<text text-anchor=\"start\" x=\"69.5\" y=\"-149.3\" font-family=\"Helvetica,sans-Serif\" font-size=\"14.00\" fill=\"#000000\">samples = 2</text>\n",
       "<text text-anchor=\"start\" x=\"67\" y=\"-134.3\" font-family=\"Helvetica,sans-Serif\" font-size=\"14.00\" fill=\"#000000\">value = [0, 2]</text>\n",
       "<text text-anchor=\"start\" x=\"74.5\" y=\"-119.3\" font-family=\"Helvetica,sans-Serif\" font-size=\"14.00\" fill=\"#000000\">class = No</text>\n",
       "</g>\n",
       "<!-- 3&#45;&gt;4 -->\n",
       "<g id=\"edge4\" class=\"edge\">\n",
       "<title>3&#45;&gt;4</title>\n",
       "<path fill=\"none\" stroke=\"#000000\" d=\"M145.2144,-222.8796C139.855,-211.8835 134.0578,-199.9893 128.6537,-188.9015\"/>\n",
       "<polygon fill=\"#000000\" stroke=\"#000000\" points=\"131.7524,-187.2706 124.2249,-179.8149 125.46,-190.3375 131.7524,-187.2706\"/>\n",
       "</g>\n",
       "<!-- 5 -->\n",
       "<g id=\"node6\" class=\"node\">\n",
       "<title>5</title>\n",
       "<path fill=\"#e58139\" stroke=\"#000000\" d=\"M259,-179.5C259,-179.5 186,-179.5 186,-179.5 180,-179.5 174,-173.5 174,-167.5 174,-167.5 174,-123.5 174,-123.5 174,-117.5 180,-111.5 186,-111.5 186,-111.5 259,-111.5 259,-111.5 265,-111.5 271,-117.5 271,-123.5 271,-123.5 271,-167.5 271,-167.5 271,-173.5 265,-179.5 259,-179.5\"/>\n",
       "<text text-anchor=\"start\" x=\"193.5\" y=\"-164.3\" font-family=\"Helvetica,sans-Serif\" font-size=\"14.00\" fill=\"#000000\">gini = 0.0</text>\n",
       "<text text-anchor=\"start\" x=\"184.5\" y=\"-149.3\" font-family=\"Helvetica,sans-Serif\" font-size=\"14.00\" fill=\"#000000\">samples = 1</text>\n",
       "<text text-anchor=\"start\" x=\"182\" y=\"-134.3\" font-family=\"Helvetica,sans-Serif\" font-size=\"14.00\" fill=\"#000000\">value = [1, 0]</text>\n",
       "<text text-anchor=\"start\" x=\"186.5\" y=\"-119.3\" font-family=\"Helvetica,sans-Serif\" font-size=\"14.00\" fill=\"#000000\">class = Yes</text>\n",
       "</g>\n",
       "<!-- 3&#45;&gt;5 -->\n",
       "<g id=\"edge5\" class=\"edge\">\n",
       "<title>3&#45;&gt;5</title>\n",
       "<path fill=\"none\" stroke=\"#000000\" d=\"M185.4358,-222.8796C190.7029,-211.8835 196.4001,-199.9893 201.711,-188.9015\"/>\n",
       "<polygon fill=\"#000000\" stroke=\"#000000\" points=\"204.9,-190.3457 206.0634,-179.8149 198.5869,-187.3217 204.9,-190.3457\"/>\n",
       "</g>\n",
       "<!-- 7 -->\n",
       "<g id=\"node8\" class=\"node\">\n",
       "<title>7</title>\n",
       "<path fill=\"#e58139\" stroke=\"#000000\" d=\"M319,-298.5C319,-298.5 246,-298.5 246,-298.5 240,-298.5 234,-292.5 234,-286.5 234,-286.5 234,-242.5 234,-242.5 234,-236.5 240,-230.5 246,-230.5 246,-230.5 319,-230.5 319,-230.5 325,-230.5 331,-236.5 331,-242.5 331,-242.5 331,-286.5 331,-286.5 331,-292.5 325,-298.5 319,-298.5\"/>\n",
       "<text text-anchor=\"start\" x=\"253.5\" y=\"-283.3\" font-family=\"Helvetica,sans-Serif\" font-size=\"14.00\" fill=\"#000000\">gini = 0.0</text>\n",
       "<text text-anchor=\"start\" x=\"244.5\" y=\"-268.3\" font-family=\"Helvetica,sans-Serif\" font-size=\"14.00\" fill=\"#000000\">samples = 3</text>\n",
       "<text text-anchor=\"start\" x=\"242\" y=\"-253.3\" font-family=\"Helvetica,sans-Serif\" font-size=\"14.00\" fill=\"#000000\">value = [3, 0]</text>\n",
       "<text text-anchor=\"start\" x=\"246.5\" y=\"-238.3\" font-family=\"Helvetica,sans-Serif\" font-size=\"14.00\" fill=\"#000000\">class = Yes</text>\n",
       "</g>\n",
       "<!-- 6&#45;&gt;7 -->\n",
       "<g id=\"edge7\" class=\"edge\">\n",
       "<title>6&#45;&gt;7</title>\n",
       "<path fill=\"none\" stroke=\"#000000\" d=\"M282.5,-341.8796C282.5,-331.2134 282.5,-319.7021 282.5,-308.9015\"/>\n",
       "<polygon fill=\"#000000\" stroke=\"#000000\" points=\"286.0001,-308.8149 282.5,-298.8149 279.0001,-308.815 286.0001,-308.8149\"/>\n",
       "</g>\n",
       "<!-- 8 -->\n",
       "<g id=\"node9\" class=\"node\">\n",
       "<title>8</title>\n",
       "<path fill=\"#7bbeee\" stroke=\"#000000\" d=\"M434,-306C434,-306 361,-306 361,-306 355,-306 349,-300 349,-294 349,-294 349,-235 349,-235 349,-229 355,-223 361,-223 361,-223 434,-223 434,-223 440,-223 446,-229 446,-235 446,-235 446,-294 446,-294 446,-300 440,-306 434,-306\"/>\n",
       "<text text-anchor=\"start\" x=\"360.5\" y=\"-290.8\" font-family=\"Helvetica,sans-Serif\" font-size=\"14.00\" fill=\"#000000\">Windy ≤ 0.5</text>\n",
       "<text text-anchor=\"start\" x=\"361\" y=\"-275.8\" font-family=\"Helvetica,sans-Serif\" font-size=\"14.00\" fill=\"#000000\">gini = 0.375</text>\n",
       "<text text-anchor=\"start\" x=\"359.5\" y=\"-260.8\" font-family=\"Helvetica,sans-Serif\" font-size=\"14.00\" fill=\"#000000\">samples = 4</text>\n",
       "<text text-anchor=\"start\" x=\"357\" y=\"-245.8\" font-family=\"Helvetica,sans-Serif\" font-size=\"14.00\" fill=\"#000000\">value = [1, 3]</text>\n",
       "<text text-anchor=\"start\" x=\"364.5\" y=\"-230.8\" font-family=\"Helvetica,sans-Serif\" font-size=\"14.00\" fill=\"#000000\">class = No</text>\n",
       "</g>\n",
       "<!-- 6&#45;&gt;8 -->\n",
       "<g id=\"edge8\" class=\"edge\">\n",
       "<title>6&#45;&gt;8</title>\n",
       "<path fill=\"none\" stroke=\"#000000\" d=\"M322.7214,-341.8796C331.512,-332.7832 340.8966,-323.0722 349.9426,-313.7116\"/>\n",
       "<polygon fill=\"#000000\" stroke=\"#000000\" points=\"352.6745,-315.9212 357.1069,-306.2981 347.6409,-311.0568 352.6745,-315.9212\"/>\n",
       "</g>\n",
       "<!-- 9 -->\n",
       "<g id=\"node10\" class=\"node\">\n",
       "<title>9</title>\n",
       "<path fill=\"#399de5\" stroke=\"#000000\" d=\"M374,-179.5C374,-179.5 301,-179.5 301,-179.5 295,-179.5 289,-173.5 289,-167.5 289,-167.5 289,-123.5 289,-123.5 289,-117.5 295,-111.5 301,-111.5 301,-111.5 374,-111.5 374,-111.5 380,-111.5 386,-117.5 386,-123.5 386,-123.5 386,-167.5 386,-167.5 386,-173.5 380,-179.5 374,-179.5\"/>\n",
       "<text text-anchor=\"start\" x=\"308.5\" y=\"-164.3\" font-family=\"Helvetica,sans-Serif\" font-size=\"14.00\" fill=\"#000000\">gini = 0.0</text>\n",
       "<text text-anchor=\"start\" x=\"299.5\" y=\"-149.3\" font-family=\"Helvetica,sans-Serif\" font-size=\"14.00\" fill=\"#000000\">samples = 2</text>\n",
       "<text text-anchor=\"start\" x=\"297\" y=\"-134.3\" font-family=\"Helvetica,sans-Serif\" font-size=\"14.00\" fill=\"#000000\">value = [0, 2]</text>\n",
       "<text text-anchor=\"start\" x=\"304.5\" y=\"-119.3\" font-family=\"Helvetica,sans-Serif\" font-size=\"14.00\" fill=\"#000000\">class = No</text>\n",
       "</g>\n",
       "<!-- 8&#45;&gt;9 -->\n",
       "<g id=\"edge9\" class=\"edge\">\n",
       "<title>8&#45;&gt;9</title>\n",
       "<path fill=\"none\" stroke=\"#000000\" d=\"M376.5149,-222.8796C370.9707,-211.8835 364.9736,-199.9893 359.3831,-188.9015\"/>\n",
       "<polygon fill=\"#000000\" stroke=\"#000000\" points=\"362.4291,-187.1684 354.8016,-179.8149 356.1786,-190.3199 362.4291,-187.1684\"/>\n",
       "</g>\n",
       "<!-- 10 -->\n",
       "<g id=\"node11\" class=\"node\">\n",
       "<title>10</title>\n",
       "<path fill=\"#ffffff\" stroke=\"#000000\" d=\"M492.5,-187C492.5,-187 416.5,-187 416.5,-187 410.5,-187 404.5,-181 404.5,-175 404.5,-175 404.5,-116 404.5,-116 404.5,-110 410.5,-104 416.5,-104 416.5,-104 492.5,-104 492.5,-104 498.5,-104 504.5,-110 504.5,-116 504.5,-116 504.5,-175 504.5,-175 504.5,-181 498.5,-187 492.5,-187\"/>\n",
       "<text text-anchor=\"start\" x=\"412.5\" y=\"-171.8\" font-family=\"Helvetica,sans-Serif\" font-size=\"14.00\" fill=\"#000000\">Outlook ≤ 2.5</text>\n",
       "<text text-anchor=\"start\" x=\"425.5\" y=\"-156.8\" font-family=\"Helvetica,sans-Serif\" font-size=\"14.00\" fill=\"#000000\">gini = 0.5</text>\n",
       "<text text-anchor=\"start\" x=\"416.5\" y=\"-141.8\" font-family=\"Helvetica,sans-Serif\" font-size=\"14.00\" fill=\"#000000\">samples = 2</text>\n",
       "<text text-anchor=\"start\" x=\"414\" y=\"-126.8\" font-family=\"Helvetica,sans-Serif\" font-size=\"14.00\" fill=\"#000000\">value = [1, 1]</text>\n",
       "<text text-anchor=\"start\" x=\"418.5\" y=\"-111.8\" font-family=\"Helvetica,sans-Serif\" font-size=\"14.00\" fill=\"#000000\">class = Yes</text>\n",
       "</g>\n",
       "<!-- 8&#45;&gt;10 -->\n",
       "<g id=\"edge10\" class=\"edge\">\n",
       "<title>8&#45;&gt;10</title>\n",
       "<path fill=\"none\" stroke=\"#000000\" d=\"M417.4358,-222.8796C421.5341,-214.3236 425.8928,-205.2238 430.1273,-196.3833\"/>\n",
       "<polygon fill=\"#000000\" stroke=\"#000000\" points=\"433.3157,-197.8288 434.4791,-187.2981 427.0025,-194.8049 433.3157,-197.8288\"/>\n",
       "</g>\n",
       "<!-- 11 -->\n",
       "<g id=\"node12\" class=\"node\">\n",
       "<title>11</title>\n",
       "<path fill=\"#399de5\" stroke=\"#000000\" d=\"M433,-68C433,-68 360,-68 360,-68 354,-68 348,-62 348,-56 348,-56 348,-12 348,-12 348,-6 354,0 360,0 360,0 433,0 433,0 439,0 445,-6 445,-12 445,-12 445,-56 445,-56 445,-62 439,-68 433,-68\"/>\n",
       "<text text-anchor=\"start\" x=\"367.5\" y=\"-52.8\" font-family=\"Helvetica,sans-Serif\" font-size=\"14.00\" fill=\"#000000\">gini = 0.0</text>\n",
       "<text text-anchor=\"start\" x=\"358.5\" y=\"-37.8\" font-family=\"Helvetica,sans-Serif\" font-size=\"14.00\" fill=\"#000000\">samples = 1</text>\n",
       "<text text-anchor=\"start\" x=\"356\" y=\"-22.8\" font-family=\"Helvetica,sans-Serif\" font-size=\"14.00\" fill=\"#000000\">value = [0, 1]</text>\n",
       "<text text-anchor=\"start\" x=\"363.5\" y=\"-7.8\" font-family=\"Helvetica,sans-Serif\" font-size=\"14.00\" fill=\"#000000\">class = No</text>\n",
       "</g>\n",
       "<!-- 10&#45;&gt;11 -->\n",
       "<g id=\"edge11\" class=\"edge\">\n",
       "<title>10&#45;&gt;11</title>\n",
       "<path fill=\"none\" stroke=\"#000000\" d=\"M432.9029,-103.9815C428.3612,-95.2504 423.5598,-86.0202 418.9863,-77.2281\"/>\n",
       "<polygon fill=\"#000000\" stroke=\"#000000\" points=\"422.0431,-75.52 414.3233,-68.2637 415.8331,-78.7504 422.0431,-75.52\"/>\n",
       "</g>\n",
       "<!-- 12 -->\n",
       "<g id=\"node13\" class=\"node\">\n",
       "<title>12</title>\n",
       "<path fill=\"#e58139\" stroke=\"#000000\" d=\"M548,-68C548,-68 475,-68 475,-68 469,-68 463,-62 463,-56 463,-56 463,-12 463,-12 463,-6 469,0 475,0 475,0 548,0 548,0 554,0 560,-6 560,-12 560,-12 560,-56 560,-56 560,-62 554,-68 548,-68\"/>\n",
       "<text text-anchor=\"start\" x=\"482.5\" y=\"-52.8\" font-family=\"Helvetica,sans-Serif\" font-size=\"14.00\" fill=\"#000000\">gini = 0.0</text>\n",
       "<text text-anchor=\"start\" x=\"473.5\" y=\"-37.8\" font-family=\"Helvetica,sans-Serif\" font-size=\"14.00\" fill=\"#000000\">samples = 1</text>\n",
       "<text text-anchor=\"start\" x=\"471\" y=\"-22.8\" font-family=\"Helvetica,sans-Serif\" font-size=\"14.00\" fill=\"#000000\">value = [1, 0]</text>\n",
       "<text text-anchor=\"start\" x=\"475.5\" y=\"-7.8\" font-family=\"Helvetica,sans-Serif\" font-size=\"14.00\" fill=\"#000000\">class = Yes</text>\n",
       "</g>\n",
       "<!-- 10&#45;&gt;12 -->\n",
       "<g id=\"edge12\" class=\"edge\">\n",
       "<title>10&#45;&gt;12</title>\n",
       "<path fill=\"none\" stroke=\"#000000\" d=\"M475.7247,-103.9815C480.1881,-95.2504 484.9067,-86.0202 489.4013,-77.2281\"/>\n",
       "<polygon fill=\"#000000\" stroke=\"#000000\" points=\"492.5486,-78.7608 493.984,-68.2637 486.3158,-75.5745 492.5486,-78.7608\"/>\n",
       "</g>\n",
       "</g>\n",
       "</svg>\n"
      ],
      "text/plain": [
       "<graphviz.files.Source at 0x1a23046cd0>"
      ]
     },
     "execution_count": 25,
     "metadata": {},
     "output_type": "execute_result"
    }
   ],
   "source": [
    "graph"
   ]
  },
  {
   "cell_type": "code",
   "execution_count": 26,
   "metadata": {},
   "outputs": [],
   "source": [
    "#Part 5 Question 1\n",
    "\n"
   ]
  },
  {
   "cell_type": "code",
   "execution_count": 27,
   "metadata": {},
   "outputs": [
    {
     "data": {
      "text/plain": [
       "[Text(186.0, 195.696, 'X[2] <= 2.5\\nentropy = 0.98\\nsamples = 24\\nvalue = [10, 14]'),\n",
       " Text(111.60000000000001, 152.208, 'X[1] <= 0.5\\nentropy = 0.837\\nsamples = 15\\nvalue = [4, 11]'),\n",
       " Text(74.4, 108.72, 'X[0] <= 0.5\\nentropy = 0.684\\nsamples = 11\\nvalue = [2, 9]'),\n",
       " Text(37.2, 65.232, 'entropy = 0.0\\nsamples = 1\\nvalue = [0, 1]'),\n",
       " Text(111.60000000000001, 65.232, 'X[2] <= 1.5\\nentropy = 0.722\\nsamples = 10\\nvalue = [2, 8]'),\n",
       " Text(74.4, 21.744, 'entropy = 0.764\\nsamples = 9\\nvalue = [2, 7]'),\n",
       " Text(148.8, 21.744, 'entropy = 0.0\\nsamples = 1\\nvalue = [0, 1]'),\n",
       " Text(148.8, 108.72, 'entropy = 1.0\\nsamples = 4\\nvalue = [2, 2]'),\n",
       " Text(260.40000000000003, 152.208, 'X[1] <= 0.5\\nentropy = 0.918\\nsamples = 9\\nvalue = [6, 3]'),\n",
       " Text(223.20000000000002, 108.72, 'X[0] <= 0.5\\nentropy = 1.0\\nsamples = 6\\nvalue = [3, 3]'),\n",
       " Text(186.0, 65.232, 'entropy = 0.971\\nsamples = 5\\nvalue = [2, 3]'),\n",
       " Text(260.40000000000003, 65.232, 'entropy = 0.0\\nsamples = 1\\nvalue = [1, 0]'),\n",
       " Text(297.6, 108.72, 'entropy = 0.0\\nsamples = 3\\nvalue = [3, 0]')]"
      ]
     },
     "execution_count": 27,
     "metadata": {},
     "output_type": "execute_result"
    },
    {
     "data": {
      "image/png": "[encoded data removed]",
      "text/plain": [
       "<Figure size 432x288 with 1 Axes>"
      ]
     },
     "metadata": {
      "needs_background": "light"
     },
     "output_type": "display_data"
    }
   ],
   "source": [
    "train5 = {'home': [1, 0, 1, 1, 0, 1, 1, 0, 0, 1, 0, 0, 0, 1, 1, 1, 1, 0, 1, 1, 1, 1, 1, 0],\n",
    "            'top': [0, 0, 1, 0, 1, 0, 1, 0, 0, 0, 0, 1, 0, 0, 0, 0, 0, 0, 1, 0, 0, 0, 1, 1],\n",
    "            'media': [1, 4, 1, 1, 4, 1, 1, 4, 4, 1, 1, 3, 4, 1, 1, 1, 2, 4, 1, 1, 5, 1, 1, 4],\n",
    "            'result': [1, 1, 1, 1, 0, 1, 1, 1, 1, 1, 1, 0, 0, 1, 0, 0, 1, 0, 0, 1, 0, 1, 0, 0, ]}\n",
    "test5 = {'home': [1, 1, 0, 0, 1, 0, 1, 1, 1, 0, 1, 0],\n",
    "           'top': [0, 1, 0, 0, 0, 0, 1, 0, 0, 1, 0, 1],\n",
    "           'media': [1, 1, 2, 3, 1, 4, 1, 1, 1, 4, 1, 4]}\n",
    "y = [1, 0, 1, 1, 1, 1, 1, 1, 1, 0, 1, 0]\n",
    "\n",
    "traindata5 = pd.DataFrame(data = train5)\n",
    "testdata5 = pd.DataFrame(data = test5)\n",
    "\n",
    "dtent5 = tree.DecisionTreeClassifier(criterion=\"entropy\")\n",
    "dtentropy5 = dtent5.fit(traindata5.iloc[:, :3], traindata5['result'])\n",
    "tree.plot_tree(dtent5.fit(traindata5.iloc[:, :3], traindata5['result']))\n",
    "\n",
    "\n",
    "\n"
   ]
  },
  {
   "cell_type": "code",
   "execution_count": 28,
   "metadata": {},
   "outputs": [],
   "source": [
    "data5 = tree.export_graphviz(dtent5,out_file=None,feature_names= [\"Home\",\"Top25\",\"Media\"],class_names = [\"Lose\",\"Win\"],filled=True,rounded=True,special_characters=True)"
   ]
  },
  {
   "cell_type": "code",
   "execution_count": 29,
   "metadata": {},
   "outputs": [
    {
     "name": "stdout",
     "output_type": "stream",
     "text": [
      "Precision Score:  1.0\n",
      "F1 Score:  0.9411764705882353\n",
      "Recall Score:  0.8888888888888888\n",
      "Accuracy Score:  0.9166666666666666\n",
      "Prediction: [1 0 1 1 1 1 0 1 1 0 1 0]\n"
     ]
    }
   ],
   "source": [
    "graph = graphviz.Source(data5)\n",
    "y_pred = dtentropy5.predict(testdata5)\n",
    "\n",
    "precision = precision_score(y, y_pred)\n",
    "F1 = f1_score(y, y_pred)\n",
    "recall = recall_score(y, y_pred)\n",
    "accuracy = accuracy_score(y, y_pred)\n",
    "print(\"Precision Score: \", precision)\n",
    "print(\"F1 Score: \", F1)\n",
    "print(\"Recall Score: \", recall)\n",
    "print(\"Accuracy Score: \", accuracy)\n",
    "print(\"Prediction:\", y_pred)"
   ]
  },
  {
   "cell_type": "code",
   "execution_count": 30,
   "metadata": {},
   "outputs": [
    {
     "data": {
      "text/plain": [
       "'/Users/QUAN/Documents/Q5ID3.png'"
      ]
     },
     "execution_count": 30,
     "metadata": {},
     "output_type": "execute_result"
    }
   ],
   "source": [
    "graph.render(filename = \"Q5ID3\", directory = \"/Users/QUAN/Documents/\", format = \"png\")"
   ]
  },
  {
   "cell_type": "code",
   "execution_count": null,
   "metadata": {},
   "outputs": [],
   "source": []
  }
 ],
 "metadata": {
  "kernelspec": {
   "display_name": "Python 3",
   "language": "python",
   "name": "python3"
  },
  "language_info": {
   "codemirror_mode": {
    "name": "ipython",
    "version": 3
   },
   "file_extension": ".py",
   "mimetype": "text/x-python",
   "name": "python",
   "nbconvert_exporter": "python",
   "pygments_lexer": "ipython3",
   "version": "3.7.4"
  }
 },
 "nbformat": 4,
 "nbformat_minor": 2
}
