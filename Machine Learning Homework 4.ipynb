{
 "cells": [
  {
   "cell_type": "code",
   "execution_count": 2,
   "metadata": {},
   "outputs": [],
   "source": [
    "import numpy as np\n",
    "import graphviz\n",
    "from sklearn import tree\n",
    "import pandas as pd\n",
    "from sklearn.metrics import precision_score,f1_score, recall_score, accuracy_score\n",
    "from sklearn.naive_bayes import GaussianNB"
   ]
  },
  {
   "cell_type": "code",
   "execution_count": 3,
   "metadata": {},
   "outputs": [],
   "source": [
    "train5 = {'home': [1, 0, 1, 1, 0, 1, 1, 0, 0, 1, 0, 0, 0, 1, 1, 1, 1, 0, 1, 1, 1, 1, 1, 0],\n",
    "            'top': [0, 0, 1, 0, 1, 0, 1, 0, 0, 0, 0, 1, 0, 0, 0, 0, 0, 0, 1, 0, 0, 0, 1, 1],\n",
    "            'media': [1, 4, 1, 1, 4, 1, 1, 4, 4, 1, 1, 3, 4, 1, 1, 1, 2, 4, 1, 1, 5, 1, 1, 4],\n",
    "            'result': [1, 1, 1, 1, 0, 1, 1, 1, 1, 1, 1, 0, 0, 1, 0, 0, 1, 0, 0, 1, 0, 1, 0, 0, ]}\n",
    "test5 = {'home': [1, 1, 0, 0, 1, 0, 1, 1, 1, 0, 1, 0],\n",
    "           'top': [0, 1, 0, 0, 0, 0, 1, 0, 0, 1, 0, 1],\n",
    "           'media': [1, 1, 2, 3, 1, 4, 1, 1, 1, 4, 1, 4]}\n",
    "y = [1, 0, 1, 1, 1, 1, 1, 1, 1, 0, 1, 0]\n"
   ]
  },
  {
   "cell_type": "code",
   "execution_count": 4,
   "metadata": {},
   "outputs": [],
   "source": [
    "traindata5 = pd.DataFrame(data = train5)\n",
    "testdata5 = pd.DataFrame(data = test5)"
   ]
  },
  {
   "cell_type": "code",
   "execution_count": 5,
   "metadata": {},
   "outputs": [
    {
     "name": "stdout",
     "output_type": "stream",
     "text": [
      "Precision Score:  1.0\n",
      "F1 Score:  0.8750000000000001\n",
      "Recall Score:  0.7777777777777778\n",
      "Accuracy Score:  0.8333333333333334\n",
      "Prediction: [1 0 1 1 1 0 0 1 1 0 1 0]\n"
     ]
    }
   ],
   "source": [
    "GNB = GaussianNB()\n",
    "y_pred = GNB.fit(traindata5.iloc[:,:3],traindata5[\"result\"]).predict(testdata5)\n",
    "\n",
    "precision = precision_score(y, y_pred)\n",
    "F1 = f1_score(y, y_pred)\n",
    "recall = recall_score(y, y_pred)\n",
    "accuracy = accuracy_score(y, y_pred)\n",
    "print(\"Precision Score: \", precision)\n",
    "print(\"F1 Score: \", F1)\n",
    "print(\"Recall Score: \", recall)\n",
    "print(\"Accuracy Score: \", accuracy)\n",
    "print(\"Prediction:\", y_pred)"
   ]
  },
  {
   "cell_type": "code",
   "execution_count": null,
   "metadata": {},
   "outputs": [],
   "source": []
  }
 ],
 "metadata": {
  "kernelspec": {
   "display_name": "Python 3",
   "language": "python",
   "name": "python3"
  },
  "language_info": {
   "codemirror_mode": {
    "name": "ipython",
    "version": 3
   },
   "file_extension": ".py",
   "mimetype": "text/x-python",
   "name": "python",
   "nbconvert_exporter": "python",
   "pygments_lexer": "ipython3",
   "version": "3.7.4"
  }
 },
 "nbformat": 4,
 "nbformat_minor": 2
}
